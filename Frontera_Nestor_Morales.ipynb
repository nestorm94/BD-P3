{
  "nbformat": 4,
  "nbformat_minor": 0,
  "metadata": {
    "colab": {
      "provenance": [],
      "include_colab_link": true
    },
    "kernelspec": {
      "name": "python3",
      "display_name": "Python 3"
    },
    "language_info": {
      "name": "python"
    }
  },
  "cells": [
    {
      "cell_type": "markdown",
      "metadata": {
        "id": "view-in-github",
        "colab_type": "text"
      },
      "source": [
        "<a href=\"https://colab.research.google.com/github/nestorm94/BD-P3/blob/main/Frontera_Nestor_Morales.ipynb\" target=\"_parent\"><img src=\"https://colab.research.google.com/assets/colab-badge.svg\" alt=\"Open In Colab\"/></a>"
      ]
    },
    {
      "cell_type": "code",
      "source": [
        "from sklearn.metrics import mean_squared_error\n",
        "import math\n",
        "import pandas as pd\n",
        "import matplotlib.pyplot as plt"
      ],
      "metadata": {
        "id": "AC6c-0INgd3D"
      },
      "execution_count": 44,
      "outputs": []
    },
    {
      "cell_type": "code",
      "source": [
        "x1 = [1, 2, 2.5, 4, 4.3]\n",
        "x2 = [2.3, 3.7, 4.0, 4.2]\n",
        "# y = [0, 1, 1, 0, c1]"
      ],
      "metadata": {
        "id": "cOuFqfEDcagf"
      },
      "execution_count": 45,
      "outputs": []
    },
    {
      "cell_type": "code",
      "source": [
        "#if < 1.5\n",
        "caja1C0 = (1)\n",
        "caja1C1 = (0)\n",
        "\n",
        "caja2C0 = (1/4)\n",
        "caja2C1 = (3/4)\n",
        "\n",
        "entropiaCaja = -((caja1C0 * math.log2(caja1C0)))\n",
        "print(entropiaCaja)\n",
        "\n",
        "entropiaCaja2 = -((caja2C0 * math.log2(caja2C0)) + (caja2C1 * math.log2(caja2C1)))\n",
        "print(entropiaCaja2)\n",
        "\n",
        "print(\"Entropia Total: \", (1/5)*entropiaCaja+(4/5)*entropiaCaja2)"
      ],
      "metadata": {
        "colab": {
          "base_uri": "https://localhost:8080/"
        },
        "id": "fGfv0aLRcc_l",
        "outputId": "4d061526-cfa6-4f78-baf2-7108336aaca8"
      },
      "execution_count": 46,
      "outputs": [
        {
          "output_type": "stream",
          "name": "stdout",
          "text": [
            "-0.0\n",
            "0.8112781244591328\n",
            "Entropia Total:  0.6490224995673063\n"
          ]
        }
      ]
    },
    {
      "cell_type": "code",
      "source": [
        "#if < 2.25\n",
        "caja1C0 = (1/2)\n",
        "caja1C1 = (1/2)\n",
        "\n",
        "caja2C0 = (1/3)\n",
        "caja2C1 = (2/3)\n",
        "\n",
        "entropiaCaja = -((caja1C0 * math.log2(caja1C0))+ (caja1C1 * math.log2(caja1C1)))\n",
        "print(entropiaCaja)\n",
        "\n",
        "entropiaCaja2 = -((caja2C0 * math.log2(caja2C0)) + (caja2C1 * math.log2(caja2C1)))\n",
        "print(entropiaCaja2)\n",
        "\n",
        "print(\"Entropia Total: \", (2/5)*entropiaCaja+(3/5)*entropiaCaja2)"
      ],
      "metadata": {
        "colab": {
          "base_uri": "https://localhost:8080/"
        },
        "id": "emiQceYAeMgF",
        "outputId": "621ff8d6-80f5-4322-8e3c-63829a0be950"
      },
      "execution_count": 47,
      "outputs": [
        {
          "output_type": "stream",
          "name": "stdout",
          "text": [
            "1.0\n",
            "0.9182958340544896\n",
            "Entropia Total:  0.9509775004326937\n"
          ]
        }
      ]
    },
    {
      "cell_type": "code",
      "source": [
        "#if < 3.25\n",
        "caja1C0 = (1/3)\n",
        "caja1C1 = (2/3)\n",
        "\n",
        "caja2C0 = (1/2)\n",
        "caja2C1 = (1/2)\n",
        "\n",
        "entropiaCaja = -((caja1C0 * math.log2(caja1C0))+ (caja1C1 * math.log2(caja1C1)))\n",
        "print(entropiaCaja)\n",
        "\n",
        "entropiaCaja2 = -((caja2C0 * math.log2(caja2C0)) + (caja2C1 * math.log2(caja2C1)))\n",
        "print(entropiaCaja2)\n",
        "\n",
        "print(\"Entropia Total: \", (3/5)*entropiaCaja+(2/5)*entropiaCaja2)"
      ],
      "metadata": {
        "colab": {
          "base_uri": "https://localhost:8080/"
        },
        "id": "r20ik0ELeem-",
        "outputId": "9ba97001-aeca-4cf8-d56b-0682c4d3b109"
      },
      "execution_count": 48,
      "outputs": [
        {
          "output_type": "stream",
          "name": "stdout",
          "text": [
            "0.9182958340544896\n",
            "1.0\n",
            "Entropia Total:  0.9509775004326937\n"
          ]
        }
      ]
    },
    {
      "cell_type": "code",
      "source": [
        "#if < 4.15\n",
        "caja1C0 = (2/4)\n",
        "caja1C1 = (2/4)\n",
        "\n",
        "caja2C0 = (0)\n",
        "caja2C1 = (1)\n",
        "\n",
        "entropiaCaja = -((caja1C0 * math.log2(caja1C0))+ (caja1C1 * math.log2(caja1C1)))\n",
        "print(entropiaCaja)\n",
        "\n",
        "entropiaCaja2 = -((caja2C1 * math.log2(caja2C1)))\n",
        "print(entropiaCaja2)\n",
        "\n",
        "print(\"Entropia Total: \", (4/5)*entropiaCaja+(1/5)*entropiaCaja2)"
      ],
      "metadata": {
        "colab": {
          "base_uri": "https://localhost:8080/"
        },
        "id": "ina09V2RfHut",
        "outputId": "ee8ba972-8a08-42bf-940c-943cf4ca87ee"
      },
      "execution_count": 49,
      "outputs": [
        {
          "output_type": "stream",
          "name": "stdout",
          "text": [
            "1.0\n",
            "-0.0\n",
            "Entropia Total:  0.8\n"
          ]
        }
      ]
    },
    {
      "cell_type": "code",
      "source": [
        "#X2\n",
        "#if < 3\n",
        "caja1C0 = (1)\n",
        "caja1C1 = (0)\n",
        "\n",
        "caja2C0 = (1/4)\n",
        "caja2C1 = (3/4)\n",
        "\n",
        "entropiaCaja = -((caja1C0 * math.log2(caja1C0)))\n",
        "print(entropiaCaja)\n",
        "\n",
        "entropiaCaja2 = -((caja2C0 * math.log2(caja2C0)) + (caja2C1 * math.log2(caja2C1)))\n",
        "print(entropiaCaja2)\n",
        "\n",
        "print(\"Entropia Total: \", (1/5)*entropiaCaja+(4/5)*entropiaCaja2)"
      ],
      "metadata": {
        "id": "pL3tKolxfVPN",
        "colab": {
          "base_uri": "https://localhost:8080/"
        },
        "outputId": "ea2030f0-ff6f-4f5e-a0ac-16ba10e9ef09"
      },
      "execution_count": 50,
      "outputs": [
        {
          "output_type": "stream",
          "name": "stdout",
          "text": [
            "-0.0\n",
            "0.8112781244591328\n",
            "Entropia Total:  0.6490224995673063\n"
          ]
        }
      ]
    },
    {
      "cell_type": "code",
      "source": [
        "df = pd.DataFrame({\"x1\":[1,2,2.5,4.0,4.3],\n",
        "                   \"x2\":[2.3, 3.7, 4.0, 4.2,5],\n",
        "                   \"y\" :[0, 1, 1, 0, 1]})"
      ],
      "metadata": {
        "id": "8YrsGJYBhG04"
      },
      "execution_count": 51,
      "outputs": []
    },
    {
      "cell_type": "code",
      "source": [
        "plt.scatter(df[\"x1\"],df[\"x2\"],c=df[\"y\"])\n",
        "plt.axhline(3,color=\"r\")\n",
        "plt.xlim(0,6)\n",
        "plt.ylim(0,6)"
      ],
      "metadata": {
        "colab": {
          "base_uri": "https://localhost:8080/",
          "height": 453
        },
        "id": "Sb3n33LliEI8",
        "outputId": "f62cd2a5-2a01-46be-aa49-9ae143c8f2dc"
      },
      "execution_count": 52,
      "outputs": [
        {
          "output_type": "execute_result",
          "data": {
            "text/plain": [
              "(0.0, 6.0)"
            ]
          },
          "metadata": {},
          "execution_count": 52
        },
        {
          "output_type": "display_data",
          "data": {
            "text/plain": [
              "<Figure size 640x480 with 1 Axes>"
            ],
            "image/png": "[encoded data removed]"
          },
          "metadata": {}
        }
      ]
    },
    {
      "cell_type": "code",
      "source": [
        "plt.scatter(df[\"x1\"],df[\"x2\"],c=df[\"y\"])\n",
        "plt.axvline(1.5,color=\"r\")\n",
        "plt.xlim(0,6)\n",
        "plt.ylim(0,6)"
      ],
      "metadata": {
        "colab": {
          "base_uri": "https://localhost:8080/",
          "height": 453
        },
        "id": "qCzsyQuNiq3t",
        "outputId": "a7987f83-bf62-492d-ecaf-5d7f747f556e"
      },
      "execution_count": 53,
      "outputs": [
        {
          "output_type": "execute_result",
          "data": {
            "text/plain": [
              "(0.0, 6.0)"
            ]
          },
          "metadata": {},
          "execution_count": 53
        },
        {
          "output_type": "display_data",
          "data": {
            "text/plain": [
              "<Figure size 640x480 with 1 Axes>"
            ],
            "image/png": "[encoded data removed]"
          },
          "metadata": {}
        }
      ]
    },
    {
      "cell_type": "markdown",
      "source": [
        "x1 = [ 2, 2.5, 4, 4.3]\n",
        "x2 = [ 3.7, 4.0, 4.2]\n",
        "y = [ c1, c1, c0, c1]\n",
        "\n",
        "---\n",
        "\n"
      ],
      "metadata": {
        "id": "FUJsEIYFkcwQ"
      }
    },
    {
      "cell_type": "code",
      "source": [
        "#if < 2.25\n",
        "caja1C0 = (0)\n",
        "caja1C1 = (1)\n",
        "\n",
        "caja2C0 = (1/3)\n",
        "caja2C1 = (2/3)\n",
        "\n",
        "entropiaCaja = -((caja1C1 * math.log2(caja1C1)))\n",
        "print(entropiaCaja)\n",
        "\n",
        "entropiaCaja2 = -((caja2C0 * math.log2(caja2C0)) + (caja2C1 * math.log2(caja2C1)))\n",
        "print(entropiaCaja2)\n",
        "\n",
        "print(\"Entropia Total: \", (1/4)*entropiaCaja+(3/4)*entropiaCaja2)"
      ],
      "metadata": {
        "colab": {
          "base_uri": "https://localhost:8080/"
        },
        "id": "wnyvixYakZRC",
        "outputId": "4c5b837e-3f2f-4f5b-bc34-c60cb538271b"
      },
      "execution_count": 54,
      "outputs": [
        {
          "output_type": "stream",
          "name": "stdout",
          "text": [
            "-0.0\n",
            "0.9182958340544896\n",
            "Entropia Total:  0.6887218755408672\n"
          ]
        }
      ]
    },
    {
      "cell_type": "code",
      "source": [
        "#x1 = [ 2, 2.5, 4, 4.3]\n",
        "#x2 = [ 3.7, 4.0, 4.2]\n",
        "#y = [ c1, c1, c0, c1]\n",
        "\n",
        "\n",
        "caja1C0 = (0)\n",
        "caja1C1 = (2/2)\n",
        "\n",
        "caja2C0 = (1/2)\n",
        "caja2C1 = (1/2)\n",
        "\n",
        "entropiaCaja = -((caja1C1 * math.log2(caja1C1)))\n",
        "print(entropiaCaja)\n",
        "\n",
        "entropiaCaja2 = -((caja2C0 * math.log2(caja2C0)) + (caja2C1 * math.log2(caja2C1)))\n",
        "print(entropiaCaja2)\n",
        "\n",
        "print(\"Entropia Total: \", (2/4)*entropiaCaja+(2/4)*entropiaCaja2)"
      ],
      "metadata": {
        "colab": {
          "base_uri": "https://localhost:8080/"
        },
        "id": "badn7S-Nk1DL",
        "outputId": "08339bcd-5ad6-490d-db5a-81d0e339b0f5"
      },
      "execution_count": 55,
      "outputs": [
        {
          "output_type": "stream",
          "name": "stdout",
          "text": [
            "-0.0\n",
            "1.0\n",
            "Entropia Total:  0.5\n"
          ]
        }
      ]
    },
    {
      "cell_type": "code",
      "source": [
        "#x1 = [ 2, 2.5, 4, 4.3]\n",
        "#x2 = [ 3.7, 4.0, 4.2]\n",
        "#y = [ c1, c1, c0, c1]\n",
        "\n",
        "#if < 2.25\n",
        "caja1C0 = (1/3)\n",
        "caja1C1 = (2/3)\n",
        "\n",
        "caja2C0 = (0)\n",
        "caja2C1 = (1/1)\n",
        "\n",
        "entropiaCaja = -((caja1C0 * math.log2(caja1C0)) + (caja1C1 * math.log2(caja1C1)))\n",
        "print(entropiaCaja)\n",
        "\n",
        "entropiaCaja2 = -( (caja2C1 * math.log2(caja2C1)))\n",
        "print(entropiaCaja2)\n",
        "\n",
        "print(\"Entropia Total: \", (3/4)*entropiaCaja+(1/4)*entropiaCaja2)"
      ],
      "metadata": {
        "colab": {
          "base_uri": "https://localhost:8080/"
        },
        "id": "xYxuLlRFlT82",
        "outputId": "2e1c08d1-2d6a-43b1-adaa-e058d685efc1"
      },
      "execution_count": 56,
      "outputs": [
        {
          "output_type": "stream",
          "name": "stdout",
          "text": [
            "0.9182958340544896\n",
            "-0.0\n",
            "Entropia Total:  0.6887218755408672\n"
          ]
        }
      ]
    },
    {
      "cell_type": "code",
      "source": [],
      "metadata": {
        "id": "THWBg_8mnGBn"
      },
      "execution_count": 57,
      "outputs": []
    },
    {
      "cell_type": "code",
      "source": [
        "plt.scatter(df[\"x1\"],df[\"x2\"],c=df[\"y\"])\n",
        "plt.axvline(1.5,ymin=0.685,color=\"r\")\n",
        "plt.axhline(4.1,xmin=0.25,color=\"r\")\n",
        "plt.xlim(0,6)\n",
        "plt.ylim(0,6)"
      ],
      "metadata": {
        "colab": {
          "base_uri": "https://localhost:8080/",
          "height": 453
        },
        "id": "vASwRPjHm_Uw",
        "outputId": "18001c94-2207-4997-ab3b-f4dadf610721"
      },
      "execution_count": 73,
      "outputs": [
        {
          "output_type": "execute_result",
          "data": {
            "text/plain": [
              "(0.0, 6.0)"
            ]
          },
          "metadata": {},
          "execution_count": 73
        },
        {
          "output_type": "display_data",
          "data": {
            "text/plain": [
              "<Figure size 640x480 with 1 Axes>"
            ],
            "image/png": "[encoded data removed]"
          },
          "metadata": {}
        }
      ]
    }
  ]
}